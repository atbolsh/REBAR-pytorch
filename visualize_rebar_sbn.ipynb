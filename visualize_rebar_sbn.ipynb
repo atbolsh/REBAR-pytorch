{
 "cells": [
  {
   "cell_type": "code",
   "execution_count": 1,
   "metadata": {},
   "outputs": [
    {
     "ename": "ImportError",
     "evalue": "/nfs01/shared_software/anaconda3/envs/artem2/lib/python3.6/site-packages/scipy/special/_ufuncs_cxx.cpython-36m-x86_64-linux-gnu.so: cannot open shared object file: Input/output error",
     "output_type": "error",
     "traceback": [
      "\u001b[0;31m---------------------------------------------------------------------------\u001b[0m",
      "\u001b[0;31mImportError\u001b[0m                               Traceback (most recent call last)",
      "\u001b[0;32m<ipython-input-1-3130415d05f3>\u001b[0m in \u001b[0;36m<module>\u001b[0;34m\u001b[0m\n\u001b[1;32m      3\u001b[0m \u001b[0;32mimport\u001b[0m \u001b[0mh5py\u001b[0m\u001b[0;34m\u001b[0m\u001b[0;34m\u001b[0m\u001b[0m\n\u001b[1;32m      4\u001b[0m \u001b[0;32mimport\u001b[0m \u001b[0mos\u001b[0m\u001b[0;34m\u001b[0m\u001b[0;34m\u001b[0m\u001b[0m\n\u001b[0;32m----> 5\u001b[0;31m \u001b[0;32mimport\u001b[0m \u001b[0mseaborn\u001b[0m \u001b[0;32mas\u001b[0m \u001b[0msns\u001b[0m\u001b[0;34m\u001b[0m\u001b[0;34m\u001b[0m\u001b[0m\n\u001b[0m\u001b[1;32m      6\u001b[0m \u001b[0;32mimport\u001b[0m \u001b[0mpandas\u001b[0m \u001b[0;32mas\u001b[0m \u001b[0mpd\u001b[0m\u001b[0;34m\u001b[0m\u001b[0;34m\u001b[0m\u001b[0m\n\u001b[1;32m      7\u001b[0m \u001b[0msns\u001b[0m\u001b[0;34m.\u001b[0m\u001b[0mset\u001b[0m\u001b[0;34m(\u001b[0m\u001b[0;34m)\u001b[0m\u001b[0;34m\u001b[0m\u001b[0;34m\u001b[0m\u001b[0m\n",
      "\u001b[0;32m/nfs01/shared_software/anaconda3/envs/artem2/lib/python3.6/site-packages/seaborn/__init__.py\u001b[0m in \u001b[0;36m<module>\u001b[0;34m\u001b[0m\n",
      "\u001b[0;32m/nfs01/shared_software/anaconda3/envs/artem2/lib/python3.6/site-packages/seaborn/rcmod.py\u001b[0m in \u001b[0;36m<module>\u001b[0;34m\u001b[0m\n",
      "\u001b[0;32m/nfs01/shared_software/anaconda3/envs/artem2/lib/python3.6/site-packages/seaborn/palettes.py\u001b[0m in \u001b[0;36m<module>\u001b[0;34m\u001b[0m\n",
      "\u001b[0;32m/nfs01/shared_software/anaconda3/envs/artem2/lib/python3.6/site-packages/seaborn/utils.py\u001b[0m in \u001b[0;36m<module>\u001b[0;34m\u001b[0m\n",
      "\u001b[0;32m/nfs01/shared_software/anaconda3/envs/artem2/lib/python3.6/site-packages/scipy/stats/__init__.py\u001b[0m in \u001b[0;36m<module>\u001b[0;34m\u001b[0m\n",
      "\u001b[0;32m/nfs01/shared_software/anaconda3/envs/artem2/lib/python3.6/site-packages/scipy/stats/stats.py\u001b[0m in \u001b[0;36m<module>\u001b[0;34m\u001b[0m\n",
      "\u001b[0;32m/nfs01/shared_software/anaconda3/envs/artem2/lib/python3.6/site-packages/scipy/special/__init__.py\u001b[0m in \u001b[0;36m<module>\u001b[0;34m\u001b[0m\n",
      "\u001b[0;32m_ufuncs.pyx\u001b[0m in \u001b[0;36minit scipy.special._ufuncs\u001b[0;34m()\u001b[0m\n",
      "\u001b[0;31mImportError\u001b[0m: /nfs01/shared_software/anaconda3/envs/artem2/lib/python3.6/site-packages/scipy/special/_ufuncs_cxx.cpython-36m-x86_64-linux-gnu.so: cannot open shared object file: Input/output error"
     ]
    }
   ],
   "source": [
    "import matplotlib.pyplot as plt\n",
    "%matplotlib inline\n",
    "import h5py\n",
    "import os\n",
    "import seaborn as sns\n",
    "import pandas as pd\n",
    "sns.set()"
   ]
  },
  {
   "cell_type": "code",
   "execution_count": null,
   "metadata": {},
   "outputs": [],
   "source": [
    "save_dir = 'results'\n",
    "scores_file = os.path.join(save_dir, 'scores.hdf5')\n",
    "scores = h5py.File(scores_file, 'r')\n",
    "\n",
    "ELBO = []\n",
    "logGradVar = []\n",
    "for sc in scores['scores']:\n",
    "    ELBO.append(sc[0])\n",
    "    logGradVar.append(sc[1])\n",
    "\n",
    "tf_loggradvar = os.path.join(save_dir, 'TF-log-grad-var.csv')\n",
    "tf_elbo = os.path.join(save_dir, 'TF-ELBO.csv')\n",
    "df1 = pd.read_csv(tf_loggradvar)\n",
    "df2 = pd.read_csv(tf_elbo)\n",
    "df1 = df1.drop('Wall time', axis=1)\n",
    "df2 = df2.drop('Wall time', axis=1)"
   ]
  },
  {
   "cell_type": "code",
   "execution_count": null,
   "metadata": {},
   "outputs": [],
   "source": [
    "# plot ELBO\n",
    "fig, (ax1, ax2) = plt.subplots(1,2, sharex=True, figsize=(14,6))\n",
    "ax1.plot(df2['Step'], ELBO[1:])\n",
    "ax1.plot(df2['Step'], df2['Value'])\n",
    "ax2.plot(df1['Step'], logGradVar[1:], label='My code')\n",
    "ax2.plot(df1['Step'], df1['Value'], label='author impl.')\n",
    "ax1.set_title('Objective', fontsize=16, fontweight='bold')\n",
    "ax2.set_title('LogGradVariance', fontsize=16, fontweight='bold')\n",
    "fig.text(0.5, 0.04, 'steps', ha='center', fontsize=14, fontweight='bold')\n",
    "ax1.set_ylabel('ELBO', fontsize=14, fontweight='bold')\n",
    "ax2.set_ylabel('loggradvar', fontsize=14, fontweight='bold')\n",
    "ax1.tick_params(axis='both', labelsize='large')\n",
    "ax2.tick_params(axis='both', labelsize='large')\n",
    "plt.legend(fontsize=14)\n",
    "plt.savefig('results.png')\n",
    "plt.show()"
   ]
  }
 ],
 "metadata": {
  "kernelspec": {
   "display_name": "Python 3",
   "language": "python",
   "name": "python3"
  },
  "language_info": {
   "codemirror_mode": {
    "name": "ipython",
    "version": 3
   },
   "file_extension": ".py",
   "mimetype": "text/x-python",
   "name": "python",
   "nbconvert_exporter": "python",
   "pygments_lexer": "ipython3",
   "version": "3.6.8"
  }
 },
 "nbformat": 4,
 "nbformat_minor": 2
}
